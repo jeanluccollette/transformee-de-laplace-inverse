{
  "cells": [
    {
      "cell_type": "markdown",
      "metadata": {
        "id": "6fX0CVMl0btF"
      },
      "source": [
        "# Transformée de Laplace inverse"
      ]
    },
    {
      "cell_type": "markdown",
      "metadata": {
        "id": "NRtGHDXpL4-I"
      },
      "source": [
        "## Introduction"
      ]
    },
    {
      "cell_type": "markdown",
      "metadata": {
        "id": "R-ujPB6FL9eR"
      },
      "source": [
        "La résolution d'équations différentielles linéaires peut s'effectuer en s'aidant de la transformée de Laplace. Via cette méthode, on accède dans un premier temps à la transformée de Laplace de la solution, qui se présente pour l'essentiel sous la forme d'une fraction rationnelle d'une variable complexe $p$.\n",
        "\n",
        "Pour revenir à l'expression temporelle de la solution, il faut procéder à la **décomposition en éléments simples** de la fraction rationnelle en $p$, de sorte qu'apparaissent des termes élémentaires de la forme $\\dfrac{K}{(p-a)^n}$ (dans le corps des complexes) pour lesquels l'expression temporelle associée $K\\dfrac{t^{n-1}e^{at}\\theta(t)}{(n-1)!}$ est connue.\n",
        "\n",
        "L'idée ici est d'illustrer les méthodes de calcul via le package **sympy** de calcul symbolique. Mais il reste préférable de pouvoir **mener ces calculs avec un crayon et un papier**.\n",
        "\n",
        "La validation s'effectuera avec la fonction **impulse_response** du package **control**."
      ]
    },
    {
      "cell_type": "markdown",
      "metadata": {},
      "source": [
        "## Les packages utiles"
      ]
    },
    {
      "cell_type": "code",
      "execution_count": 1,
      "metadata": {},
      "outputs": [],
      "source": [
        "import sympy as sp\n",
        "import numpy as np\n",
        "import control as ct\n",
        "from scipy.signal import lfilter\n",
        "import matplotlib.pyplot as plt\n",
        "from IPython.display import display"
      ]
    },
    {
      "cell_type": "markdown",
      "metadata": {},
      "source": [
        "## Définition de $H(p)$ sous forme littérale"
      ]
    },
    {
      "cell_type": "code",
      "execution_count": 2,
      "metadata": {},
      "outputs": [],
      "source": [
        "p, t, G = sp.symbols('p, t, G')\n",
        "P = sp.IndexedBase('P')\n",
        "Z = sp.IndexedBase('Z')\n",
        "A = sp.IndexedBase('A')\n",
        "Gn = [(G, 5)]\n",
        "# Pn = [(P[0], -0.5), (P[1], -0.8), (P[2], -0.4)]\n",
        "Pn = [(P[0], -0.5), (P[1], -0.8), (P[2], -0.7)]\n",
        "OPn = [1, 3, 1]\n",
        "Zn = [(Z[0], 0.1), (Z[1], 0.2)]\n",
        "OZn = [1, 1]"
      ]
    },
    {
      "cell_type": "code",
      "execution_count": 3,
      "metadata": {},
      "outputs": [
        {
          "data": {
            "text/latex": [
              "$\\displaystyle \\frac{G \\left(- \\frac{p}{{Z}_{0}} + 1\\right) \\left(- \\frac{p}{{Z}_{1}} + 1\\right)}{\\left(- \\frac{p}{{P}_{0}} + 1\\right) \\left(- \\frac{p}{{P}_{1}} + 1\\right)^{3} \\left(- \\frac{p}{{P}_{2}} + 1\\right)}$"
            ],
            "text/plain": [
              "G*(-p/Z[0] + 1)*(-p/Z[1] + 1)/((-p/P[0] + 1)*(-p/P[1] + 1)**3*(-p/P[2] + 1))"
            ]
          },
          "metadata": {},
          "output_type": "display_data"
        },
        {
          "data": {
            "text/latex": [
              "$\\displaystyle \\frac{5 \\left(1 - 10.0 p\\right) \\left(1 - 5.0 p\\right)}{\\left(1.25 p + 1\\right)^{3} \\left(1.42857142857143 p + 1\\right) \\left(2.0 p + 1\\right)}$"
            ],
            "text/plain": [
              "5*(1 - 10.0*p)*(1 - 5.0*p)/((1.25*p + 1)**3*(1.42857142857143*p + 1)*(2.0*p + 1))"
            ]
          },
          "metadata": {},
          "output_type": "display_data"
        }
      ],
      "source": [
        "H = Gn[0][0]\n",
        "for k in range(len(Pn)):\n",
        "    H = H/(1 - p/Pn[k][0])**OPn[k]\n",
        "for k in range(len(Zn)):\n",
        "    H = H*(1 - p/Zn[k][0])**OZn[k]\n",
        "display(H)\n",
        "display(H.subs(Pn).subs(Zn).subs(Gn))"
      ]
    },
    {
      "cell_type": "markdown",
      "metadata": {},
      "source": [
        "## La fonction qui travaille sur l'expression littérale de $H(p)$"
      ]
    },
    {
      "cell_type": "code",
      "execution_count": 4,
      "metadata": {},
      "outputs": [],
      "source": [
        "def inv_lapl(Gn, Zn, OZn, Pn, OPn, p, t):\n",
        "    A = sp.IndexedBase('A')\n",
        "    H = Gn[0][0]\n",
        "    for k in range(len(Pn)):\n",
        "        H = H/(1 - p/Pn[k][0])**OPn[k]\n",
        "    for k in range(len(Zn)):\n",
        "        H = H*(1 - p/Zn[k][0])**OZn[k]\n",
        "    display(H)\n",
        "    An = []\n",
        "    h = 0\n",
        "    tl = 0\n",
        "    for k in range(len(Pn)):\n",
        "        display(Pn[k][0])\n",
        "        N = OPn[k]\n",
        "        Fn = H\n",
        "        R = (Fn*(p-Pn[k][0])**N).simplify()\n",
        "        a = R.subs(p, Pn[k][0])\n",
        "        h = h+A[k, N]*t**(N-1)*sp.exp(Pn[k][0]*t)/sp.factorial(N-1)\n",
        "        tl = tl + A[k, N]/(p - Pn[k][0])**N\n",
        "        print('degré', N, 'coeff', a.subs(Zn).subs(Pn).subs(Gn))\n",
        "        An.append((A[k, N], a.subs(Zn).subs(Pn).subs(Gn)))\n",
        "        for n in range(N, 1, -1):\n",
        "            Fn = (Fn-a/(p-Pn[k][0])**n).expand()\n",
        "            Fn = Fn.simplify()\n",
        "            R = (Fn*(p-Pn[k][0])**(n-1)).simplify()\n",
        "            a = R.subs(p, Pn[k][0])\n",
        "            print('degré', n-1, 'coeff', a.subs(Zn).subs(Pn).subs(Gn))\n",
        "            An.append((A[k, n-1], a.subs(Zn).subs(Pn).subs(Gn)))\n",
        "            h = h+A[k, n-1]*t**(n-2)*sp.exp(Pn[k][0]*t)/sp.factorial(n-2)\n",
        "            tl = tl + A[k, n-1]/(p - Pn[k][0])**(n-1)\n",
        "    return An, h, tl"
      ]
    },
    {
      "cell_type": "markdown",
      "metadata": {},
      "source": [
        "## Test de la fonction pour obtenir $h(t)$ sous forme littérale, puis numérique"
      ]
    },
    {
      "cell_type": "code",
      "execution_count": 5,
      "metadata": {},
      "outputs": [
        {
          "data": {
            "text/latex": [
              "$\\displaystyle \\frac{G \\left(- \\frac{p}{{Z}_{0}} + 1\\right) \\left(- \\frac{p}{{Z}_{1}} + 1\\right)}{\\left(- \\frac{p}{{P}_{0}} + 1\\right) \\left(- \\frac{p}{{P}_{1}} + 1\\right)^{3} \\left(- \\frac{p}{{P}_{2}} + 1\\right)}$"
            ],
            "text/plain": [
              "G*(-p/Z[0] + 1)*(-p/Z[1] + 1)/((-p/P[0] + 1)*(-p/P[1] + 1)**3*(-p/P[2] + 1))"
            ]
          },
          "metadata": {},
          "output_type": "display_data"
        },
        {
          "data": {
            "text/latex": [
              "$\\displaystyle {P}_{0}$"
            ],
            "text/plain": [
              "P[0]"
            ]
          },
          "metadata": {},
          "output_type": "display_data"
        },
        {
          "name": "stdout",
          "output_type": "stream",
          "text": [
            "degré 1 coeff 3484.44444444444\n"
          ]
        },
        {
          "data": {
            "text/latex": [
              "$\\displaystyle {P}_{1}$"
            ],
            "text/plain": [
              "P[1]"
            ]
          },
          "metadata": {},
          "output_type": "display_data"
        },
        {
          "name": "stdout",
          "output_type": "stream",
          "text": [
            "degré 3 coeff 1344.00000000000\n",
            "degré 2 coeff 15082.6666666678\n",
            "degré 1 coeff 157795.555557385\n"
          ]
        },
        {
          "data": {
            "text/latex": [
              "$\\displaystyle {P}_{2}$"
            ],
            "text/plain": [
              "P[2]"
            ]
          },
          "metadata": {},
          "output_type": "display_data"
        },
        {
          "name": "stdout",
          "output_type": "stream",
          "text": [
            "degré 1 coeff -161280.000000000\n"
          ]
        },
        {
          "data": {
            "text/latex": [
              "$\\displaystyle \\frac{t^{2} e^{t {P}_{1}} {A}_{1,3}}{2} + t e^{t {P}_{1}} {A}_{1,2} + e^{t {P}_{0}} {A}_{0,1} + e^{t {P}_{1}} {A}_{1,1} + e^{t {P}_{2}} {A}_{2,1}$"
            ],
            "text/plain": [
              "t**2*exp(t*P[1])*A[1, 3]/2 + t*exp(t*P[1])*A[1, 2] + exp(t*P[0])*A[0, 1] + exp(t*P[1])*A[1, 1] + exp(t*P[2])*A[2, 1]"
            ]
          },
          "metadata": {},
          "output_type": "display_data"
        },
        {
          "data": {
            "text/latex": [
              "$\\displaystyle 671.999999999999 t^{2} e^{- 0.8 t} + 15082.6666666678 t e^{- 0.8 t} + 157795.555557385 e^{- 0.8 t} - 161280.0 e^{- 0.7 t} + 3484.44444444444 e^{- 0.5 t}$"
            ],
            "text/plain": [
              "671.999999999999*t**2*exp(-0.8*t) + 15082.6666666678*t*exp(-0.8*t) + 157795.555557385*exp(-0.8*t) - 161280.0*exp(-0.7*t) + 3484.44444444444*exp(-0.5*t)"
            ]
          },
          "metadata": {},
          "output_type": "display_data"
        },
        {
          "data": {
            "text/latex": [
              "$\\displaystyle \\frac{{A}_{2,1}}{p - {P}_{2}} + \\frac{{A}_{1,1}}{p - {P}_{1}} + \\frac{{A}_{1,2}}{\\left(p - {P}_{1}\\right)^{2}} + \\frac{{A}_{1,3}}{\\left(p - {P}_{1}\\right)^{3}} + \\frac{{A}_{0,1}}{p - {P}_{0}}$"
            ],
            "text/plain": [
              "A[2, 1]/(p - P[2]) + A[1, 1]/(p - P[1]) + A[1, 2]/(p - P[1])**2 + A[1, 3]/(p - P[1])**3 + A[0, 1]/(p - P[0])"
            ]
          },
          "metadata": {},
          "output_type": "display_data"
        },
        {
          "data": {
            "text/latex": [
              "$\\displaystyle \\frac{157795.555557385}{p + 0.8} + \\frac{15082.6666666678}{\\left(p + 0.8\\right)^{2}} + \\frac{1344.0}{\\left(p + 0.8\\right)^{3}} - \\frac{161280.0}{p + 0.7} + \\frac{3484.44444444444}{p + 0.5}$"
            ],
            "text/plain": [
              "157795.555557385/(p + 0.8) + 15082.6666666678/(p + 0.8)**2 + 1344.0/(p + 0.8)**3 - 161280.0/(p + 0.7) + 3484.44444444444/(p + 0.5)"
            ]
          },
          "metadata": {},
          "output_type": "display_data"
        }
      ],
      "source": [
        "An, h, tl = inv_lapl(Gn, Zn, OZn, Pn, OPn, p, t)\n",
        "display(h)\n",
        "display(h.subs(An).subs(Pn))\n",
        "display(tl)\n",
        "display(tl.subs(An).subs(Pn))"
      ]
    },
    {
      "cell_type": "markdown",
      "metadata": {},
      "source": [
        "## Test de la méthode **apart** (ne fonctionne pas avec l'exemple)"
      ]
    },
    {
      "cell_type": "code",
      "execution_count": 6,
      "metadata": {},
      "outputs": [
        {
          "data": {
            "text/latex": [
              "$\\displaystyle \\frac{8.69902912621359 \\left(1.0 p^{2} - 0.3 p + 0.02\\right)}{0.194174757281553 p^{5} + 0.699029126213592 p^{4} + 1.0 p^{3} + 0.709902912621359 p^{2} + 0.24978640776699 p + 0.0347961165048544}$"
            ],
            "text/plain": [
              "8.69902912621359*(1.0*p**2 - 0.3*p + 0.02)/(0.194174757281553*p**5 + 0.699029126213592*p**4 + 1.0*p**3 + 0.709902912621359*p**2 + 0.24978640776699*p + 0.0347961165048544)"
            ]
          },
          "metadata": {},
          "output_type": "display_data"
        }
      ],
      "source": [
        "display(H.subs(Zn).subs(Pn).subs(Gn).apart(p))"
      ]
    },
    {
      "cell_type": "markdown",
      "metadata": {},
      "source": [
        "## Test de la méthode **inverse_laplace_transform** (ne fonctionne pas avec l'exemple)"
      ]
    },
    {
      "cell_type": "code",
      "execution_count": 7,
      "metadata": {},
      "outputs": [
        {
          "data": {
            "text/latex": [
              "$\\displaystyle - 2.60970873786408 \\left(2.67678918532925 \\left(-10.6877294364198 - 0.00250025882497242 i\\right) \\left(-4.32698463356084 - 0.000231371366533037 i\\right) \\left(0.999974711704035 + 1.46013208416434 \\cdot 10^{-5} i\\right) \\left(0.999999997467676 + 2.92070266710446 \\cdot 10^{-5} i\\right) \\left(1.06861691969783 + 2.04093920165301 \\cdot 10^{-5} i\\right) \\left(1.29803220317047 + 4.00643584959522 \\cdot 10^{-5} i\\right) \\left(17116.1105546082 - 9884.06929386775 i\\right) \\left(- 2.52999256296983 \\cdot 10^{-5} e^{- 0.799985395660794 t} \\sin{\\left(2.52999256296983 \\cdot 10^{-5} t \\right)} - 0.799985395660794 i e^{- 0.799985395660794 t} \\sin{\\left(2.52999256296983 \\cdot 10^{-5} t \\right)} - 0.799985395660794 e^{- 0.799985395660794 t} \\cos{\\left(2.52999256296983 \\cdot 10^{-5} t \\right)} + 2.52999256296983 \\cdot 10^{-5} i e^{- 0.799985395660794 t} \\cos{\\left(2.52999256296983 \\cdot 10^{-5} t \\right)}\\right) \\Gamma\\left(5.05998512593967 \\cdot 10^{-5} i\\right) + 2.67678918532925 \\left(-10.6877294364198 + 0.00250025882497242 i\\right) \\left(-4.32698463356084 + 0.000231371366533037 i\\right) \\left(0.999974711704035 - 1.46013208416434 \\cdot 10^{-5} i\\right) \\left(0.999999997467676 - 2.92070266710446 \\cdot 10^{-5} i\\right) \\left(1.06861691969783 - 2.04093920165301 \\cdot 10^{-5} i\\right) \\left(1.29803220317047 - 4.00643584959522 \\cdot 10^{-5} i\\right) \\left(17116.1105546082 + 9884.06929386775 i\\right) \\left(- 2.52999256296983 \\cdot 10^{-5} e^{- 0.799985395660794 t} \\sin{\\left(2.52999256296983 \\cdot 10^{-5} t \\right)} + 0.799985395660794 i e^{- 0.799985395660794 t} \\sin{\\left(2.52999256296983 \\cdot 10^{-5} t \\right)} - 0.799985395660794 e^{- 0.799985395660794 t} \\cos{\\left(2.52999256296983 \\cdot 10^{-5} t \\right)} - 2.52999256296983 \\cdot 10^{-5} i e^{- 0.799985395660794 t} \\cos{\\left(2.52999256296983 \\cdot 10^{-5} t \\right)}\\right) \\Gamma\\left(- 5.05998512593967 \\cdot 10^{-5} i\\right) - 2.96977839957926 \\left(-791205.136291213 + 456867.753066079 i\\right) \\left(-17117.2649859404 - 9884.06929386372 i\\right) \\left(1.00002529082695 - 1.46057061820079 \\cdot 10^{-5} i\\right) \\left(1.00002529082695 + 1.46057061820079 \\cdot 10^{-5} i\\right) e^{- 0.800029208680771 t} - 3.97335935462944 \\left(-526.773491636811 - 0.138940569494513 i\\right) \\left(0.951356657125757 - 1.01999685592348 \\cdot 10^{-5} i\\right) \\left(0.951356657125757 + 1.01999685592348 \\cdot 10^{-5} i\\right) \\left(9.51495553247385 - 0.0025096428757056 i\\right) e^{- 0.699999999997612 t} - 4.81671774484488 \\left(0.897472913662869 - 3.8420241045865 \\cdot 10^{-6} i\\right) \\left(0.897472913662869 + 3.8420241045865 \\cdot 10^{-6} i\\right) \\left(2.99172199692759 - 0.000265120800152304 i\\right) \\left(41.0835853576928 + 0.00364075038868681 i\\right) e^{- 0.500000000000031 t}\\right) \\theta\\left(t\\right) + 0.896 \\left(0.519764890355194 \\left(-10.6877294364198 + 0.00250025882497242 i\\right) \\left(-4.32698463356084 + 0.000231371366533037 i\\right) \\left(0.999974711704035 - 1.46013208416434 \\cdot 10^{-5} i\\right) \\left(0.999999997467676 - 2.92070266710446 \\cdot 10^{-5} i\\right) \\left(1.06861691969783 - 2.04093920165301 \\cdot 10^{-5} i\\right) \\left(1.29803220317047 - 4.00643584959522 \\cdot 10^{-5} i\\right) \\left(17116.1105546082 + 9884.06929386775 i\\right) \\left(- i e^{- 0.799985395660794 t} \\sin{\\left(2.52999256296983 \\cdot 10^{-5} t \\right)} + e^{- 0.799985395660794 t} \\cos{\\left(2.52999256296983 \\cdot 10^{-5} t \\right)}\\right) \\Gamma\\left(- 5.05998512593967 \\cdot 10^{-5} i\\right) + 0.519764890355194 \\left(-10.6877294364198 - 0.00250025882497242 i\\right) \\left(-4.32698463356084 - 0.000231371366533037 i\\right) \\left(0.999974711704035 + 1.46013208416434 \\cdot 10^{-5} i\\right) \\left(0.999999997467676 + 2.92070266710446 \\cdot 10^{-5} i\\right) \\left(1.06861691969783 + 2.04093920165301 \\cdot 10^{-5} i\\right) \\left(1.29803220317047 + 4.00643584959522 \\cdot 10^{-5} i\\right) \\left(17116.1105546082 - 9884.06929386775 i\\right) \\left(i e^{- 0.799985395660794 t} \\sin{\\left(2.52999256296983 \\cdot 10^{-5} t \\right)} + e^{- 0.799985395660794 t} \\cos{\\left(2.52999256296983 \\cdot 10^{-5} t \\right)}\\right) \\Gamma\\left(5.05998512593967 \\cdot 10^{-5} i\\right) + 0.720793683107139 \\left(-791205.136291213 + 456867.753066079 i\\right) \\left(-17117.2649859404 - 9884.06929386372 i\\right) \\left(1.00002529082695 - 1.46057061820079 \\cdot 10^{-5} i\\right) \\left(1.00002529082695 + 1.46057061820079 \\cdot 10^{-5} i\\right) e^{- 0.800029208680771 t} + 1.10218012611456 \\left(-526.773491636811 - 0.138940569494513 i\\right) \\left(0.951356657125757 - 1.01999685592348 \\cdot 10^{-5} i\\right) \\left(0.951356657125757 + 1.01999685592348 \\cdot 10^{-5} i\\right) \\left(9.51495553247385 - 0.0025096428757056 i\\right) e^{- 0.699999999997612 t} + 1.8705699979979 \\left(0.897472913662869 - 3.8420241045865 \\cdot 10^{-6} i\\right) \\left(0.897472913662869 + 3.8420241045865 \\cdot 10^{-6} i\\right) \\left(2.99172199692759 - 0.000265120800152304 i\\right) \\left(41.0835853576928 + 0.00364075038868681 i\\right) e^{- 0.500000000000031 t}\\right) \\theta\\left(t\\right) + 8.69902912621359 \\left(2.67678918532925 \\left(0.999974711704035 - 1.46013208416434 \\cdot 10^{-5} i\\right) \\left(0.999999997467676 - 2.92070266710446 \\cdot 10^{-5} i\\right) \\left(1.06861691969783 - 2.04093920165301 \\cdot 10^{-5} i\\right) \\left(1.29803220317047 - 4.00643584959522 \\cdot 10^{-5} i\\right) \\left(4.32698463356084 - 0.000231371366533037 i\\right) \\left(10.6877294364198 - 0.00250025882497242 i\\right) \\left(17116.1105546082 + 9884.06929386775 i\\right) \\left(4.04791420301258 \\cdot 10^{-5} \\sin{\\left(2.52999256296983 \\cdot 10^{-5} t \\right)} - 0.639976632630471 i \\sin{\\left(2.52999256296983 \\cdot 10^{-5} t \\right)} + 0.639976632630471 \\cos{\\left(2.52999256296983 \\cdot 10^{-5} t \\right)} + 4.04791420301258 \\cdot 10^{-5} i \\cos{\\left(2.52999256296983 \\cdot 10^{-5} t \\right)}\\right) e^{- 0.799985395660794 t} \\Gamma\\left(- 5.05998512593967 \\cdot 10^{-5} i\\right) + 2.67678918532925 \\left(0.999974711704035 + 1.46013208416434 \\cdot 10^{-5} i\\right) \\left(0.999999997467676 + 2.92070266710446 \\cdot 10^{-5} i\\right) \\left(1.06861691969783 + 2.04093920165301 \\cdot 10^{-5} i\\right) \\left(1.29803220317047 + 4.00643584959522 \\cdot 10^{-5} i\\right) \\left(4.32698463356084 + 0.000231371366533037 i\\right) \\left(10.6877294364198 + 0.00250025882497242 i\\right) \\left(17116.1105546082 - 9884.06929386775 i\\right) \\left(4.04791420301258 \\cdot 10^{-5} \\sin{\\left(2.52999256296983 \\cdot 10^{-5} t \\right)} + 0.639976632630471 i \\sin{\\left(2.52999256296983 \\cdot 10^{-5} t \\right)} + 0.639976632630471 \\cos{\\left(2.52999256296983 \\cdot 10^{-5} t \\right)} - 4.04791420301258 \\cdot 10^{-5} i \\cos{\\left(2.52999256296983 \\cdot 10^{-5} t \\right)}\\right) e^{- 0.799985395660794 t} \\Gamma\\left(5.05998512593967 \\cdot 10^{-5} i\\right) + 2.37590946297264 \\left(1.00002529082695 - 1.46057061820079 \\cdot 10^{-5} i\\right) \\left(1.00002529082695 + 1.46057061820079 \\cdot 10^{-5} i\\right) \\left(17117.2649859404 + 9884.06929386372 i\\right) \\left(791205.136291213 - 456867.753066079 i\\right) e^{- 0.800029208680771 t} - 2.78135154823112 \\left(0.951356657125757 - 1.01999685592348 \\cdot 10^{-5} i\\right) \\left(0.951356657125757 + 1.01999685592348 \\cdot 10^{-5} i\\right) \\left(9.51495553247385 - 0.0025096428757056 i\\right) \\left(526.773491636811 + 0.138940569494513 i\\right) e^{- 0.699999999997612 t} + 2.40835887242259 \\left(0.897472913662869 - 3.8420241045865 \\cdot 10^{-6} i\\right) \\left(0.897472913662869 + 3.8420241045865 \\cdot 10^{-6} i\\right) \\left(2.99172199692759 - 0.000265120800152304 i\\right) \\left(41.0835853576928 + 0.00364075038868681 i\\right) e^{- 0.500000000000031 t}\\right) \\theta\\left(t\\right)$"
            ],
            "text/plain": [
              "-2.60970873786408*(2.67678918532925*(-10.6877294364198 - 0.00250025882497242*I)*(-4.32698463356084 - 0.000231371366533037*I)*(0.999974711704035 + 1.46013208416434e-5*I)*(0.999999997467676 + 2.92070266710446e-5*I)*(1.06861691969783 + 2.04093920165301e-5*I)*(1.29803220317047 + 4.00643584959522e-5*I)*(17116.1105546082 - 9884.06929386775*I)*(-2.52999256296983e-5*exp(-0.799985395660794*t)*sin(2.52999256296983e-5*t) - 0.799985395660794*I*exp(-0.799985395660794*t)*sin(2.52999256296983e-5*t) - 0.799985395660794*exp(-0.799985395660794*t)*cos(2.52999256296983e-5*t) + 2.52999256296983e-5*I*exp(-0.799985395660794*t)*cos(2.52999256296983e-5*t))*gamma(5.05998512593967e-5*I) + 2.67678918532925*(-10.6877294364198 + 0.00250025882497242*I)*(-4.32698463356084 + 0.000231371366533037*I)*(0.999974711704035 - 1.46013208416434e-5*I)*(0.999999997467676 - 2.92070266710446e-5*I)*(1.06861691969783 - 2.04093920165301e-5*I)*(1.29803220317047 - 4.00643584959522e-5*I)*(17116.1105546082 + 9884.06929386775*I)*(-2.52999256296983e-5*exp(-0.799985395660794*t)*sin(2.52999256296983e-5*t) + 0.799985395660794*I*exp(-0.799985395660794*t)*sin(2.52999256296983e-5*t) - 0.799985395660794*exp(-0.799985395660794*t)*cos(2.52999256296983e-5*t) - 2.52999256296983e-5*I*exp(-0.799985395660794*t)*cos(2.52999256296983e-5*t))*gamma(-5.05998512593967e-5*I) - 2.96977839957926*(-791205.136291213 + 456867.753066079*I)*(-17117.2649859404 - 9884.06929386372*I)*(1.00002529082695 - 1.46057061820079e-5*I)*(1.00002529082695 + 1.46057061820079e-5*I)*exp(-0.800029208680771*t) - 3.97335935462944*(-526.773491636811 - 0.138940569494513*I)*(0.951356657125757 - 1.01999685592348e-5*I)*(0.951356657125757 + 1.01999685592348e-5*I)*(9.51495553247385 - 0.0025096428757056*I)*exp(-0.699999999997612*t) - 4.81671774484488*(0.897472913662869 - 3.8420241045865e-6*I)*(0.897472913662869 + 3.8420241045865e-6*I)*(2.99172199692759 - 0.000265120800152304*I)*(41.0835853576928 + 0.00364075038868681*I)*exp(-0.500000000000031*t))*Heaviside(t) + 0.896*(0.519764890355194*(-10.6877294364198 + 0.00250025882497242*I)*(-4.32698463356084 + 0.000231371366533037*I)*(0.999974711704035 - 1.46013208416434e-5*I)*(0.999999997467676 - 2.92070266710446e-5*I)*(1.06861691969783 - 2.04093920165301e-5*I)*(1.29803220317047 - 4.00643584959522e-5*I)*(17116.1105546082 + 9884.06929386775*I)*(-I*exp(-0.799985395660794*t)*sin(2.52999256296983e-5*t) + exp(-0.799985395660794*t)*cos(2.52999256296983e-5*t))*gamma(-5.05998512593967e-5*I) + 0.519764890355194*(-10.6877294364198 - 0.00250025882497242*I)*(-4.32698463356084 - 0.000231371366533037*I)*(0.999974711704035 + 1.46013208416434e-5*I)*(0.999999997467676 + 2.92070266710446e-5*I)*(1.06861691969783 + 2.04093920165301e-5*I)*(1.29803220317047 + 4.00643584959522e-5*I)*(17116.1105546082 - 9884.06929386775*I)*(I*exp(-0.799985395660794*t)*sin(2.52999256296983e-5*t) + exp(-0.799985395660794*t)*cos(2.52999256296983e-5*t))*gamma(5.05998512593967e-5*I) + 0.720793683107139*(-791205.136291213 + 456867.753066079*I)*(-17117.2649859404 - 9884.06929386372*I)*(1.00002529082695 - 1.46057061820079e-5*I)*(1.00002529082695 + 1.46057061820079e-5*I)*exp(-0.800029208680771*t) + 1.10218012611456*(-526.773491636811 - 0.138940569494513*I)*(0.951356657125757 - 1.01999685592348e-5*I)*(0.951356657125757 + 1.01999685592348e-5*I)*(9.51495553247385 - 0.0025096428757056*I)*exp(-0.699999999997612*t) + 1.8705699979979*(0.897472913662869 - 3.8420241045865e-6*I)*(0.897472913662869 + 3.8420241045865e-6*I)*(2.99172199692759 - 0.000265120800152304*I)*(41.0835853576928 + 0.00364075038868681*I)*exp(-0.500000000000031*t))*Heaviside(t) + 8.69902912621359*(2.67678918532925*(0.999974711704035 - 1.46013208416434e-5*I)*(0.999999997467676 - 2.92070266710446e-5*I)*(1.06861691969783 - 2.04093920165301e-5*I)*(1.29803220317047 - 4.00643584959522e-5*I)*(4.32698463356084 - 0.000231371366533037*I)*(10.6877294364198 - 0.00250025882497242*I)*(17116.1105546082 + 9884.06929386775*I)*(4.04791420301258e-5*sin(2.52999256296983e-5*t) - 0.639976632630471*I*sin(2.52999256296983e-5*t) + 0.639976632630471*cos(2.52999256296983e-5*t) + 4.04791420301258e-5*I*cos(2.52999256296983e-5*t))*exp(-0.799985395660794*t)*gamma(-5.05998512593967e-5*I) + 2.67678918532925*(0.999974711704035 + 1.46013208416434e-5*I)*(0.999999997467676 + 2.92070266710446e-5*I)*(1.06861691969783 + 2.04093920165301e-5*I)*(1.29803220317047 + 4.00643584959522e-5*I)*(4.32698463356084 + 0.000231371366533037*I)*(10.6877294364198 + 0.00250025882497242*I)*(17116.1105546082 - 9884.06929386775*I)*(4.04791420301258e-5*sin(2.52999256296983e-5*t) + 0.639976632630471*I*sin(2.52999256296983e-5*t) + 0.639976632630471*cos(2.52999256296983e-5*t) - 4.04791420301258e-5*I*cos(2.52999256296983e-5*t))*exp(-0.799985395660794*t)*gamma(5.05998512593967e-5*I) + 2.37590946297264*(1.00002529082695 - 1.46057061820079e-5*I)*(1.00002529082695 + 1.46057061820079e-5*I)*(17117.2649859404 + 9884.06929386372*I)*(791205.136291213 - 456867.753066079*I)*exp(-0.800029208680771*t) - 2.78135154823112*(0.951356657125757 - 1.01999685592348e-5*I)*(0.951356657125757 + 1.01999685592348e-5*I)*(9.51495553247385 - 0.0025096428757056*I)*(526.773491636811 + 0.138940569494513*I)*exp(-0.699999999997612*t) + 2.40835887242259*(0.897472913662869 - 3.8420241045865e-6*I)*(0.897472913662869 + 3.8420241045865e-6*I)*(2.99172199692759 - 0.000265120800152304*I)*(41.0835853576928 + 0.00364075038868681*I)*exp(-0.500000000000031*t))*Heaviside(t)"
            ]
          },
          "metadata": {},
          "output_type": "display_data"
        }
      ],
      "source": [
        "display(sp.inverse_laplace_transform(H.subs(Zn).subs(Pn).subs(Gn), p, t))"
      ]
    },
    {
      "cell_type": "markdown",
      "metadata": {},
      "source": [
        "## Utilisation du package **control**"
      ]
    },
    {
      "cell_type": "code",
      "execution_count": 8,
      "metadata": {},
      "outputs": [
        {
          "data": {
            "text/latex": [
              "$$\\frac{-0.896 s^2 + 0.2688 s - 0.01792}{-0.02 s^5 - 0.072 s^4 - 0.103 s^3 - 0.07312 s^2 - 0.02573 s - 0.003584}$$"
            ],
            "text/plain": [
              "TransferFunction(array([-0.896  ,  0.2688 , -0.01792]), array([-0.02    , -0.072   , -0.103   , -0.07312 , -0.025728, -0.003584]))"
            ]
          },
          "execution_count": 8,
          "metadata": {},
          "output_type": "execute_result"
        }
      ],
      "source": [
        "p = ct.tf('s')\n",
        "H = Gn[0][1]\n",
        "for k in range(len(Pn)):\n",
        "    H = H/(1 - p/Pn[k][1])**OPn[k]\n",
        "for k in range(len(Zn)):\n",
        "    H = H*(1 - p/Zn[k][1])**OZn[k]\n",
        "H"
      ]
    },
    {
      "cell_type": "markdown",
      "metadata": {},
      "source": [
        "## Bilan avec comparaison"
      ]
    },
    {
      "cell_type": "code",
      "execution_count": 9,
      "metadata": {},
      "outputs": [
        {
          "data": {
            "image/png": "[encoded data removed]",
            "text/plain": [
              "<Figure size 640x480 with 1 Axes>"
            ]
          },
          "metadata": {},
          "output_type": "display_data"
        }
      ],
      "source": [
        "tps = np.arange(0, 10, 0.01)\n",
        "rep = ct.impulse_response(H, tps)\n",
        "h_control = rep.y[0][0]\n",
        "h_sympy = np.real(sp.lambdify(t, h.subs(An).subs(Pn), 'numpy')(tps))\n",
        "plt.plot(tps, h_control, 'b', lw=2, label='h_control')\n",
        "plt.plot(tps, h_sympy, 'r', lw=1, label='h_sympy')\n",
        "plt.grid('on')\n",
        "plt.xlabel('temps (s)')\n",
        "plt.legend()\n",
        "plt.show()"
      ]
    },
    {
      "cell_type": "markdown",
      "metadata": {
        "id": "IHmA2i_NYFrn"
      },
      "source": [
        "## Méthodes de calcul"
      ]
    },
    {
      "cell_type": "markdown",
      "metadata": {
        "id": "VI4lz32nLJ3i"
      },
      "source": [
        "### Cas d'un pôle $p_0$ simple"
      ]
    },
    {
      "cell_type": "markdown",
      "metadata": {
        "id": "MUFSyke1LVj_"
      },
      "source": [
        "$$F(p)=\\dfrac{P(p)}{Q(p)}=\\dfrac{P(p)}{B(p)(p-p_0)}=K(p)+\\dfrac{a_1}{(p-p_0)}$$\n",
        "\n",
        "$$a_1=\\dfrac{P(p_0)}{B(p_0)}=F(p)(p-p_0)|_{p=p_0}$$"
      ]
    },
    {
      "cell_type": "markdown",
      "metadata": {
        "id": "Dojj8BCVr6XZ"
      },
      "source": [
        "### Cas d'un pôle $p_0$ d'ordre de multiplicité N supérieur à 1"
      ]
    },
    {
      "cell_type": "markdown",
      "metadata": {
        "id": "NCHghUA-Xwtz"
      },
      "source": [
        "$$F(s)=\\dfrac{P(p)}{Q(p)}=\\dfrac{P(p)}{B(p)(p-p_0)^N}=K(s)+\\Sigma_{n=1}^N\\dfrac{a_n}{(p-p_0)^n}$$\n",
        "\n",
        "$$a_N=\\dfrac{P(p_0)}{B(p_0)}=F(p)(p-p_0)^N|_{p=p_0}$$\n",
        "\n",
        "$$F_{N-1}(p)=F(p)-\\dfrac{a_N}{(p-p_0)^N}=K(p)+\\Sigma_{n=1}^{N-1}\\dfrac{a_n}{(p-p_0)^n}$$\n",
        "\n",
        "$$a_{N-1}=F_{N-1}(p)(p-p_0)^{N-1}|_{p=p_0}$$\n",
        "\n",
        "Par récurrence :\n",
        "\n",
        "$$F_N(p)=F(p)$$\n",
        "\n",
        "$$a_N=F(p)(p-p_0)^N|_{p=p_0}$$\n",
        "\n",
        "Pour $n$ variant de $N$ à $2$ :\n",
        "\n",
        "$$F_{n-1}(p)=F_n(p)-\\dfrac{a_n}{(p-p_0)^n}$$\n",
        "\n",
        "$$a_{n-1}=F_{n-1}(p)(p-p_0)^{n-1}|_{p=p_0}$$\n"
      ]
    }
  ],
  "metadata": {
    "anaconda-cloud": {},
    "colab": {
      "provenance": []
    },
    "kernelspec": {
      "display_name": "Python 3",
      "language": "python",
      "name": "python3"
    },
    "language_info": {
      "codemirror_mode": {
        "name": "ipython",
        "version": 3
      },
      "file_extension": ".py",
      "mimetype": "text/x-python",
      "name": "python",
      "nbconvert_exporter": "python",
      "pygments_lexer": "ipython3",
      "version": "3.10.6"
    }
  },
  "nbformat": 4,
  "nbformat_minor": 0
}
