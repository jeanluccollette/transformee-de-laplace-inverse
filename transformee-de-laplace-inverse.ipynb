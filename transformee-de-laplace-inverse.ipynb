{
  "cells": [
    {
      "cell_type": "markdown",
      "metadata": {
        "id": "6fX0CVMl0btF"
      },
      "source": [
        "# Transformée de Laplace inverse"
      ]
    },
    {
      "cell_type": "markdown",
      "metadata": {
        "id": "NRtGHDXpL4-I"
      },
      "source": [
        "## Introduction"
      ]
    },
    {
      "cell_type": "markdown",
      "metadata": {
        "id": "R-ujPB6FL9eR"
      },
      "source": [
        "La résolution d'équations différentielles linéaires peut s'effectuer en s'aidant de la transformée de Laplace. Via cette méthode, on accède dans un premier temps à la transformée de Laplace de la solution, qui se présente pour l'essentiel sous la forme d'une fraction rationnelle d'une variable complexe $p$.\n",
        "\n",
        "Pour revenir à l'expression temporelle de la solution, il faut procéder à la **décomposition en éléments simples** de la fraction rationnelle en $p$, de sorte qu'apparaissent des termes élémentaires de la forme $\\dfrac{K}{(p-a)^n}$ (dans le corps des complexes) pour lesquels l'expression temporelle associée $K\\dfrac{t^{n-1}e^{at}\\theta(t)}{(n-1)!}$ est connue.\n",
        "\n",
        "L'idée ici est d'illustrer les méthodes de calcul via le package **sympy** de calcul symbolique. Mais il reste préférable de pouvoir **mener ces calculs avec un crayon et un papier**.\n",
        "\n",
        "La validation s'effectuera avec la fonction **impulse_response** du package **control**."
      ]
    },
    {
      "cell_type": "markdown",
      "metadata": {},
      "source": [
        "## Les packages utiles"
      ]
    },
    {
      "cell_type": "code",
      "execution_count": 1,
      "metadata": {},
      "outputs": [],
      "source": [
        "import sympy as sp\n",
        "import numpy as np\n",
        "import control as ct\n",
        "from scipy.signal import lfilter\n",
        "import matplotlib.pyplot as plt\n",
        "from IPython.display import display"
      ]
    },
    {
      "cell_type": "markdown",
      "metadata": {},
      "source": [
        "## Définition de $H(p)$ sous forme littérale"
      ]
    },
    {
      "cell_type": "code",
      "execution_count": 2,
      "metadata": {},
      "outputs": [],
      "source": [
        "p, t, G = sp.symbols('p, t, G')\n",
        "Gn = [(G, 5)]\n",
        "P = sp.IndexedBase('P')\n",
        "Z = sp.IndexedBase('Z')\n",
        "Pn = [(P[0], -0.5), (P[1], -0.8), (P[2], -0.7)]\n",
        "# Autres essais à tester\n",
        "# Pn = [(P[0], -0.5), (P[1], -0.8), (P[2], -0.4)]\n",
        "# Pn = [(P[0], 0), (P[1], -0.8), (P[2], -0.4)]\n",
        "OPn = [1, 3, 1]\n",
        "Zn = [(Z[0], 0.1), (Z[1], 0.2)]\n",
        "OZn = [1, 1]"
      ]
    },
    {
      "cell_type": "code",
      "execution_count": 3,
      "metadata": {},
      "outputs": [
        {
          "data": {
            "text/latex": [
              "$\\displaystyle \\frac{G \\left(p - {Z}_{0}\\right) \\left(p - {Z}_{1}\\right)}{\\left(p - {P}_{0}\\right) \\left(p - {P}_{1}\\right)^{3} \\left(p - {P}_{2}\\right)}$"
            ],
            "text/plain": [
              "G*(p - Z[0])*(p - Z[1])/((p - P[0])*(p - P[1])**3*(p - P[2]))"
            ]
          },
          "metadata": {},
          "output_type": "display_data"
        },
        {
          "data": {
            "text/latex": [
              "$\\displaystyle \\frac{5 \\left(p - 0.2\\right) \\left(p - 0.1\\right)}{\\left(p + 0.5\\right) \\left(p + 0.7\\right) \\left(p + 0.8\\right)^{3}}$"
            ],
            "text/plain": [
              "5*(p - 0.2)*(p - 0.1)/((p + 0.5)*(p + 0.7)*(p + 0.8)**3)"
            ]
          },
          "metadata": {},
          "output_type": "display_data"
        }
      ],
      "source": [
        "H = Gn[0][0]\n",
        "for k in range(len(Pn)):\n",
        "    H = H/(p - Pn[k][0])**OPn[k]\n",
        "for k in range(len(Zn)):\n",
        "    H = H*(p - Zn[k][0])**OZn[k]\n",
        "display(H)\n",
        "display(H.subs(Pn).subs(Zn).subs(Gn))"
      ]
    },
    {
      "cell_type": "markdown",
      "metadata": {},
      "source": [
        "## La fonction qui travaille sur l'expression littérale de $H(p)$"
      ]
    },
    {
      "cell_type": "code",
      "execution_count": 4,
      "metadata": {},
      "outputs": [],
      "source": [
        "def inv_lapl(Gn, Zn, OZn, Pn, OPn, p, t):\n",
        "    A = sp.IndexedBase('A')\n",
        "    H = Gn[0][0]\n",
        "    for k in range(len(Pn)):\n",
        "        H = H/(p - Pn[k][0])**OPn[k]\n",
        "    for k in range(len(Zn)):\n",
        "        H = H*(p - Zn[k][0])**OZn[k]\n",
        "    display(H)\n",
        "    An = []\n",
        "    h = 0\n",
        "    tl = 0\n",
        "    for k in range(len(Pn)):\n",
        "        display(Pn[k][0])\n",
        "        N = OPn[k]\n",
        "        Fn = H\n",
        "        for n in range(N, 0, -1):\n",
        "            an = (Fn*(p-Pn[k][0])**n).simplify()\n",
        "            an = an.subs(p, Pn[k][0])\n",
        "            an_num = an.subs(Zn).subs(Pn).subs(Gn)\n",
        "            print('degré', n, 'coeff', an_num)\n",
        "            An.append((A[k, n], an_num))\n",
        "            h = h+A[k, n]*t**(n-1)*sp.exp(Pn[k][0]*t)/sp.factorial(n-1)\n",
        "            tl = tl+A[k, n]/(p - Pn[k][0])**n\n",
        "            Fn = (Fn-an/(p-Pn[k][0])**n).expand()\n",
        "    return An, h, tl"
      ]
    },
    {
      "cell_type": "markdown",
      "metadata": {},
      "source": [
        "## Test de la fonction pour obtenir $h(t)$ sous forme littérale, puis numérique"
      ]
    },
    {
      "cell_type": "code",
      "execution_count": 5,
      "metadata": {},
      "outputs": [
        {
          "data": {
            "text/latex": [
              "$\\displaystyle \\frac{G \\left(p - {Z}_{0}\\right) \\left(p - {Z}_{1}\\right)}{\\left(p - {P}_{0}\\right) \\left(p - {P}_{1}\\right)^{3} \\left(p - {P}_{2}\\right)}$"
            ],
            "text/plain": [
              "G*(p - Z[0])*(p - Z[1])/((p - P[0])*(p - P[1])**3*(p - P[2]))"
            ]
          },
          "metadata": {},
          "output_type": "display_data"
        },
        {
          "data": {
            "text/latex": [
              "$\\displaystyle {P}_{0}$"
            ],
            "text/plain": [
              "P[0]"
            ]
          },
          "metadata": {},
          "output_type": "display_data"
        },
        {
          "name": "stdout",
          "output_type": "stream",
          "text": [
            "degré 1 coeff 388.888888888889\n"
          ]
        },
        {
          "data": {
            "text/latex": [
              "$\\displaystyle {P}_{1}$"
            ],
            "text/plain": [
              "P[1]"
            ]
          },
          "metadata": {},
          "output_type": "display_data"
        },
        {
          "name": "stdout",
          "output_type": "stream",
          "text": [
            "degré 3 coeff 150.000000000000\n",
            "degré 2 coeff 1683.33333333345\n",
            "degré 1 coeff 17611.1111113153\n"
          ]
        },
        {
          "data": {
            "text/latex": [
              "$\\displaystyle {P}_{2}$"
            ],
            "text/plain": [
              "P[2]"
            ]
          },
          "metadata": {},
          "output_type": "display_data"
        },
        {
          "name": "stdout",
          "output_type": "stream",
          "text": [
            "degré 1 coeff -18000.0000000000\n"
          ]
        },
        {
          "data": {
            "text/latex": [
              "$\\displaystyle \\frac{t^{2} e^{t {P}_{1}} {A}_{1,3}}{2} + t e^{t {P}_{1}} {A}_{1,2} + e^{t {P}_{0}} {A}_{0,1} + e^{t {P}_{1}} {A}_{1,1} + e^{t {P}_{2}} {A}_{2,1}$"
            ],
            "text/plain": [
              "t**2*exp(t*P[1])*A[1, 3]/2 + t*exp(t*P[1])*A[1, 2] + exp(t*P[0])*A[0, 1] + exp(t*P[1])*A[1, 1] + exp(t*P[2])*A[2, 1]"
            ]
          },
          "metadata": {},
          "output_type": "display_data"
        },
        {
          "data": {
            "text/latex": [
              "$\\displaystyle 74.9999999999999 t^{2} e^{- 0.8 t} + 1683.33333333345 t e^{- 0.8 t} + 17611.1111113153 e^{- 0.8 t} - 18000.0 e^{- 0.7 t} + 388.888888888889 e^{- 0.5 t}$"
            ],
            "text/plain": [
              "74.9999999999999*t**2*exp(-0.8*t) + 1683.33333333345*t*exp(-0.8*t) + 17611.1111113153*exp(-0.8*t) - 18000.0*exp(-0.7*t) + 388.888888888889*exp(-0.5*t)"
            ]
          },
          "metadata": {},
          "output_type": "display_data"
        },
        {
          "data": {
            "text/latex": [
              "$\\displaystyle \\frac{{A}_{2,1}}{p - {P}_{2}} + \\frac{{A}_{1,1}}{p - {P}_{1}} + \\frac{{A}_{1,2}}{\\left(p - {P}_{1}\\right)^{2}} + \\frac{{A}_{1,3}}{\\left(p - {P}_{1}\\right)^{3}} + \\frac{{A}_{0,1}}{p - {P}_{0}}$"
            ],
            "text/plain": [
              "A[2, 1]/(p - P[2]) + A[1, 1]/(p - P[1]) + A[1, 2]/(p - P[1])**2 + A[1, 3]/(p - P[1])**3 + A[0, 1]/(p - P[0])"
            ]
          },
          "metadata": {},
          "output_type": "display_data"
        },
        {
          "data": {
            "text/latex": [
              "$\\displaystyle \\frac{17611.1111113153}{p + 0.8} + \\frac{1683.33333333345}{\\left(p + 0.8\\right)^{2}} + \\frac{150.0}{\\left(p + 0.8\\right)^{3}} - \\frac{18000.0}{p + 0.7} + \\frac{388.888888888889}{p + 0.5}$"
            ],
            "text/plain": [
              "17611.1111113153/(p + 0.8) + 1683.33333333345/(p + 0.8)**2 + 150.0/(p + 0.8)**3 - 18000.0/(p + 0.7) + 388.888888888889/(p + 0.5)"
            ]
          },
          "metadata": {},
          "output_type": "display_data"
        }
      ],
      "source": [
        "An, h, tl = inv_lapl(Gn, Zn, OZn, Pn, OPn, p, t)\n",
        "display(h)\n",
        "display(h.subs(An).subs(Pn))\n",
        "display(tl)\n",
        "display(tl.subs(An).subs(Pn))"
      ]
    },
    {
      "cell_type": "markdown",
      "metadata": {},
      "source": [
        "## Test de la méthode **apart** (ne fonctionne pas avec l'exemple)"
      ]
    },
    {
      "cell_type": "code",
      "execution_count": 6,
      "metadata": {},
      "outputs": [
        {
          "data": {
            "text/latex": [
              "$\\displaystyle \\frac{0.970873786407767 \\left(1.0 p - 0.2\\right) \\left(1.0 p - 0.1\\right)}{0.194174757281553 p^{5} + 0.699029126213592 p^{4} + 1.0 p^{3} + 0.709902912621359 p^{2} + 0.24978640776699 p + 0.0347961165048544}$"
            ],
            "text/plain": [
              "0.970873786407767*(1.0*p - 0.2)*(1.0*p - 0.1)/(0.194174757281553*p**5 + 0.699029126213592*p**4 + 1.0*p**3 + 0.709902912621359*p**2 + 0.24978640776699*p + 0.0347961165048544)"
            ]
          },
          "metadata": {},
          "output_type": "display_data"
        }
      ],
      "source": [
        "display(H.subs(Zn).subs(Pn).subs(Gn).apart(p))"
      ]
    },
    {
      "cell_type": "markdown",
      "metadata": {},
      "source": [
        "## Test de la méthode **inverse_laplace_transform** (ne fonctionne pas avec l'exemple)"
      ]
    },
    {
      "cell_type": "code",
      "execution_count": 7,
      "metadata": {},
      "outputs": [
        {
          "data": {
            "text/latex": [
              "$\\displaystyle 0.1 \\left(0.519744920670958 \\left(-10.6872176779083 + 0.00161275984444836 i\\right) \\left(-4.32693725476688 + 0.000149252064881055 i\\right) \\left(0.999983685238538 - 9.4198855801913 \\cdot 10^{-6} i\\right) \\left(0.999999998946147 - 1.88415961675395 \\cdot 10^{-5} i\\right) \\left(1.06862110094624 - 1.31664241588824 \\cdot 10^{-5} i\\right) \\left(1.29804041118826 - 2.58461887125932 \\cdot 10^{-5} i\\right) \\left(26531.9020491188 + 15320.4238101107 i\\right) \\left(- i e^{- 0.799990578167577 t} \\sin{\\left(1.6321106082868 \\cdot 10^{-5} t \\right)} + e^{- 0.799990578167577 t} \\cos{\\left(1.6321106082868 \\cdot 10^{-5} t \\right)}\\right) \\Gamma\\left(- 3.26422121657361 \\cdot 10^{-5} i\\right) + 0.519744920670958 \\left(-10.6872176779083 - 0.00161275984444836 i\\right) \\left(-4.32693725476688 - 0.000149252064881055 i\\right) \\left(0.999983685238538 + 9.4198855801913 \\cdot 10^{-6} i\\right) \\left(0.999999998946147 + 1.88415961675395 \\cdot 10^{-5} i\\right) \\left(1.06862110094624 + 1.31664241588824 \\cdot 10^{-5} i\\right) \\left(1.29804041118826 + 2.58461887125932 \\cdot 10^{-5} i\\right) \\left(26531.9020491188 - 15320.4238101107 i\\right) \\left(i e^{- 0.799990578167577 t} \\sin{\\left(1.6321106082868 \\cdot 10^{-5} t \\right)} + e^{- 0.799990578167577 t} \\cos{\\left(1.6321106082868 \\cdot 10^{-5} t \\right)}\\right) \\Gamma\\left(3.26422121657361 \\cdot 10^{-5} i\\right) + 0.720834316205562 \\left(-1226572.21459149 + 708233.752680998 i\\right) \\left(-26533.0564804495 - 15320.423810109 i\\right) \\left(1.00001631581492 - 9.42171068201901 \\cdot 10^{-6} i\\right) \\left(1.00001631581492 + 9.42171068201901 \\cdot 10^{-6} i\\right) e^{- 0.800018843665528 t} + 1.10218496674856 \\left(-526.801953411986 - 0.0896315644995438 i\\right) \\left(0.951354568043977 - 6.57991994725513 \\cdot 10^{-6} i\\right) \\left(0.951354568043977 + 6.57991994725513 \\cdot 10^{-6} i\\right) \\left(9.51444185093262 - 0.00161881386907481 i\\right) e^{- 0.699999999999307 t} + 1.87057327782686 \\left(0.897472126861046 - 2.47842031305098 \\cdot 10^{-6} i\\right) \\left(0.897472126861046 + 2.47842031305098 \\cdot 10^{-6} i\\right) \\left(2.99166770353845 - 0.00017102452543871 i\\right) \\left(41.0843311392348 + 0.00234866600583474 i\\right) e^{- 0.500000000000011 t}\\right) \\theta\\left(t\\right) - 0.29126213592233 \\left(2.67668634145543 \\left(-10.6872176779083 + 0.00161275984444836 i\\right) \\left(-4.32693725476688 + 0.000149252064881055 i\\right) \\left(0.999983685238538 - 9.4198855801913 \\cdot 10^{-6} i\\right) \\left(0.999999998946147 - 1.88415961675395 \\cdot 10^{-5} i\\right) \\left(1.06862110094624 - 1.31664241588824 \\cdot 10^{-5} i\\right) \\left(1.29804041118826 - 2.58461887125932 \\cdot 10^{-5} i\\right) \\left(26531.9020491188 + 15320.4238101107 i\\right) \\left(- 1.6321106082868 \\cdot 10^{-5} e^{- 0.799990578167577 t} \\sin{\\left(1.6321106082868 \\cdot 10^{-5} t \\right)} + 0.799990578167577 i e^{- 0.799990578167577 t} \\sin{\\left(1.6321106082868 \\cdot 10^{-5} t \\right)} - 0.799990578167577 e^{- 0.799990578167577 t} \\cos{\\left(1.6321106082868 \\cdot 10^{-5} t \\right)} - 1.6321106082868 \\cdot 10^{-5} i e^{- 0.799990578167577 t} \\cos{\\left(1.6321106082868 \\cdot 10^{-5} t \\right)}\\right) \\Gamma\\left(- 3.26422121657361 \\cdot 10^{-5} i\\right) + 2.67668634145543 \\left(-10.6872176779083 - 0.00161275984444836 i\\right) \\left(-4.32693725476688 - 0.000149252064881055 i\\right) \\left(0.999983685238538 + 9.4198855801913 \\cdot 10^{-6} i\\right) \\left(0.999999998946147 + 1.88415961675395 \\cdot 10^{-5} i\\right) \\left(1.06862110094624 + 1.31664241588824 \\cdot 10^{-5} i\\right) \\left(1.29804041118826 + 2.58461887125932 \\cdot 10^{-5} i\\right) \\left(26531.9020491188 - 15320.4238101107 i\\right) \\left(- 1.6321106082868 \\cdot 10^{-5} e^{- 0.799990578167577 t} \\sin{\\left(1.6321106082868 \\cdot 10^{-5} t \\right)} - 0.799990578167577 i e^{- 0.799990578167577 t} \\sin{\\left(1.6321106082868 \\cdot 10^{-5} t \\right)} - 0.799990578167577 e^{- 0.799990578167577 t} \\cos{\\left(1.6321106082868 \\cdot 10^{-5} t \\right)} + 1.6321106082868 \\cdot 10^{-5} i e^{- 0.799990578167577 t} \\cos{\\left(1.6321106082868 \\cdot 10^{-5} t \\right)}\\right) \\Gamma\\left(3.26422121657361 \\cdot 10^{-5} i\\right) - 2.96990733604481 \\left(-1226572.21459149 + 708233.752680998 i\\right) \\left(-26533.0564804495 - 15320.423810109 i\\right) \\left(1.00001631581492 - 9.42171068201901 \\cdot 10^{-6} i\\right) \\left(1.00001631581492 + 9.42171068201901 \\cdot 10^{-6} i\\right) e^{- 0.800018843665528 t} - 3.97337680512464 \\left(-526.801953411986 - 0.0896315644995438 i\\right) \\left(0.951354568043977 - 6.57991994725513 \\cdot 10^{-6} i\\right) \\left(0.951354568043977 + 6.57991994725513 \\cdot 10^{-6} i\\right) \\left(9.51444185093262 - 0.00161881386907481 i\\right) e^{- 0.699999999999307 t} - 4.81672619040426 \\left(0.897472126861046 - 2.47842031305098 \\cdot 10^{-6} i\\right) \\left(0.897472126861046 + 2.47842031305098 \\cdot 10^{-6} i\\right) \\left(2.99166770353845 - 0.00017102452543871 i\\right) \\left(41.0843311392348 + 0.00234866600583474 i\\right) e^{- 0.500000000000011 t}\\right) \\theta\\left(t\\right) + 0.970873786407767 \\left(2.67668634145543 \\left(0.999983685238538 - 9.4198855801913 \\cdot 10^{-6} i\\right) \\left(0.999999998946147 - 1.88415961675395 \\cdot 10^{-5} i\\right) \\left(1.06862110094624 - 1.31664241588824 \\cdot 10^{-5} i\\right) \\left(1.29804041118826 - 2.58461887125932 \\cdot 10^{-5} i\\right) \\left(4.32693725476688 - 0.000149252064881055 i\\right) \\left(10.6872176779083 - 0.00161275984444836 i\\right) \\left(26531.9020491188 + 15320.4238101107 i\\right) \\left(2.61134621831359 \\cdot 10^{-5} \\sin{\\left(1.6321106082868 \\cdot 10^{-5} t \\right)} - 0.639984924890516 i \\sin{\\left(1.6321106082868 \\cdot 10^{-5} t \\right)} + 0.639984924890516 \\cos{\\left(1.6321106082868 \\cdot 10^{-5} t \\right)} + 2.61134621831359 \\cdot 10^{-5} i \\cos{\\left(1.6321106082868 \\cdot 10^{-5} t \\right)}\\right) e^{- 0.799990578167577 t} \\Gamma\\left(- 3.26422121657361 \\cdot 10^{-5} i\\right) + 2.67668634145543 \\left(0.999983685238538 + 9.4198855801913 \\cdot 10^{-6} i\\right) \\left(0.999999998946147 + 1.88415961675395 \\cdot 10^{-5} i\\right) \\left(1.06862110094624 + 1.31664241588824 \\cdot 10^{-5} i\\right) \\left(1.29804041118826 + 2.58461887125932 \\cdot 10^{-5} i\\right) \\left(4.32693725476688 + 0.000149252064881055 i\\right) \\left(10.6872176779083 + 0.00161275984444836 i\\right) \\left(26531.9020491188 - 15320.4238101107 i\\right) \\left(2.61134621831359 \\cdot 10^{-5} \\sin{\\left(1.6321106082868 \\cdot 10^{-5} t \\right)} + 0.639984924890516 i \\sin{\\left(1.6321106082868 \\cdot 10^{-5} t \\right)} + 0.639984924890516 \\cos{\\left(1.6321106082868 \\cdot 10^{-5} t \\right)} - 2.61134621831359 \\cdot 10^{-5} i \\cos{\\left(1.6321106082868 \\cdot 10^{-5} t \\right)}\\right) e^{- 0.799990578167577 t} \\Gamma\\left(3.26422121657361 \\cdot 10^{-5} i\\right) + 2.37598183277634 \\left(1.00001631581492 - 9.42171068201901 \\cdot 10^{-6} i\\right) \\left(1.00001631581492 + 9.42171068201901 \\cdot 10^{-6} i\\right) \\left(26533.0564804495 + 15320.423810109 i\\right) \\left(1226572.21459149 - 708233.752680998 i\\right) e^{- 0.800018843665528 t} - 2.78136376358449 \\left(0.951354568043977 - 6.57991994725513 \\cdot 10^{-6} i\\right) \\left(0.951354568043977 + 6.57991994725513 \\cdot 10^{-6} i\\right) \\left(9.51444185093262 - 0.00161881386907481 i\\right) \\left(526.801953411986 + 0.0896315644995438 i\\right) e^{- 0.699999999999307 t} + 2.40836309520218 \\left(0.897472126861046 - 2.47842031305098 \\cdot 10^{-6} i\\right) \\left(0.897472126861046 + 2.47842031305098 \\cdot 10^{-6} i\\right) \\left(2.99166770353845 - 0.00017102452543871 i\\right) \\left(41.0843311392348 + 0.00234866600583474 i\\right) e^{- 0.500000000000011 t}\\right) \\theta\\left(t\\right)$"
            ],
            "text/plain": [
              "0.1*(0.519744920670958*(-10.6872176779083 + 0.00161275984444836*I)*(-4.32693725476688 + 0.000149252064881055*I)*(0.999983685238538 - 9.4198855801913e-6*I)*(0.999999998946147 - 1.88415961675395e-5*I)*(1.06862110094624 - 1.31664241588824e-5*I)*(1.29804041118826 - 2.58461887125932e-5*I)*(26531.9020491188 + 15320.4238101107*I)*(-I*exp(-0.799990578167577*t)*sin(1.6321106082868e-5*t) + exp(-0.799990578167577*t)*cos(1.6321106082868e-5*t))*gamma(-3.26422121657361e-5*I) + 0.519744920670958*(-10.6872176779083 - 0.00161275984444836*I)*(-4.32693725476688 - 0.000149252064881055*I)*(0.999983685238538 + 9.4198855801913e-6*I)*(0.999999998946147 + 1.88415961675395e-5*I)*(1.06862110094624 + 1.31664241588824e-5*I)*(1.29804041118826 + 2.58461887125932e-5*I)*(26531.9020491188 - 15320.4238101107*I)*(I*exp(-0.799990578167577*t)*sin(1.6321106082868e-5*t) + exp(-0.799990578167577*t)*cos(1.6321106082868e-5*t))*gamma(3.26422121657361e-5*I) + 0.720834316205562*(-1226572.21459149 + 708233.752680998*I)*(-26533.0564804495 - 15320.423810109*I)*(1.00001631581492 - 9.42171068201901e-6*I)*(1.00001631581492 + 9.42171068201901e-6*I)*exp(-0.800018843665528*t) + 1.10218496674856*(-526.801953411986 - 0.0896315644995438*I)*(0.951354568043977 - 6.57991994725513e-6*I)*(0.951354568043977 + 6.57991994725513e-6*I)*(9.51444185093262 - 0.00161881386907481*I)*exp(-0.699999999999307*t) + 1.87057327782686*(0.897472126861046 - 2.47842031305098e-6*I)*(0.897472126861046 + 2.47842031305098e-6*I)*(2.99166770353845 - 0.00017102452543871*I)*(41.0843311392348 + 0.00234866600583474*I)*exp(-0.500000000000011*t))*Heaviside(t) - 0.29126213592233*(2.67668634145543*(-10.6872176779083 + 0.00161275984444836*I)*(-4.32693725476688 + 0.000149252064881055*I)*(0.999983685238538 - 9.4198855801913e-6*I)*(0.999999998946147 - 1.88415961675395e-5*I)*(1.06862110094624 - 1.31664241588824e-5*I)*(1.29804041118826 - 2.58461887125932e-5*I)*(26531.9020491188 + 15320.4238101107*I)*(-1.6321106082868e-5*exp(-0.799990578167577*t)*sin(1.6321106082868e-5*t) + 0.799990578167577*I*exp(-0.799990578167577*t)*sin(1.6321106082868e-5*t) - 0.799990578167577*exp(-0.799990578167577*t)*cos(1.6321106082868e-5*t) - 1.6321106082868e-5*I*exp(-0.799990578167577*t)*cos(1.6321106082868e-5*t))*gamma(-3.26422121657361e-5*I) + 2.67668634145543*(-10.6872176779083 - 0.00161275984444836*I)*(-4.32693725476688 - 0.000149252064881055*I)*(0.999983685238538 + 9.4198855801913e-6*I)*(0.999999998946147 + 1.88415961675395e-5*I)*(1.06862110094624 + 1.31664241588824e-5*I)*(1.29804041118826 + 2.58461887125932e-5*I)*(26531.9020491188 - 15320.4238101107*I)*(-1.6321106082868e-5*exp(-0.799990578167577*t)*sin(1.6321106082868e-5*t) - 0.799990578167577*I*exp(-0.799990578167577*t)*sin(1.6321106082868e-5*t) - 0.799990578167577*exp(-0.799990578167577*t)*cos(1.6321106082868e-5*t) + 1.6321106082868e-5*I*exp(-0.799990578167577*t)*cos(1.6321106082868e-5*t))*gamma(3.26422121657361e-5*I) - 2.96990733604481*(-1226572.21459149 + 708233.752680998*I)*(-26533.0564804495 - 15320.423810109*I)*(1.00001631581492 - 9.42171068201901e-6*I)*(1.00001631581492 + 9.42171068201901e-6*I)*exp(-0.800018843665528*t) - 3.97337680512464*(-526.801953411986 - 0.0896315644995438*I)*(0.951354568043977 - 6.57991994725513e-6*I)*(0.951354568043977 + 6.57991994725513e-6*I)*(9.51444185093262 - 0.00161881386907481*I)*exp(-0.699999999999307*t) - 4.81672619040426*(0.897472126861046 - 2.47842031305098e-6*I)*(0.897472126861046 + 2.47842031305098e-6*I)*(2.99166770353845 - 0.00017102452543871*I)*(41.0843311392348 + 0.00234866600583474*I)*exp(-0.500000000000011*t))*Heaviside(t) + 0.970873786407767*(2.67668634145543*(0.999983685238538 - 9.4198855801913e-6*I)*(0.999999998946147 - 1.88415961675395e-5*I)*(1.06862110094624 - 1.31664241588824e-5*I)*(1.29804041118826 - 2.58461887125932e-5*I)*(4.32693725476688 - 0.000149252064881055*I)*(10.6872176779083 - 0.00161275984444836*I)*(26531.9020491188 + 15320.4238101107*I)*(2.61134621831359e-5*sin(1.6321106082868e-5*t) - 0.639984924890516*I*sin(1.6321106082868e-5*t) + 0.639984924890516*cos(1.6321106082868e-5*t) + 2.61134621831359e-5*I*cos(1.6321106082868e-5*t))*exp(-0.799990578167577*t)*gamma(-3.26422121657361e-5*I) + 2.67668634145543*(0.999983685238538 + 9.4198855801913e-6*I)*(0.999999998946147 + 1.88415961675395e-5*I)*(1.06862110094624 + 1.31664241588824e-5*I)*(1.29804041118826 + 2.58461887125932e-5*I)*(4.32693725476688 + 0.000149252064881055*I)*(10.6872176779083 + 0.00161275984444836*I)*(26531.9020491188 - 15320.4238101107*I)*(2.61134621831359e-5*sin(1.6321106082868e-5*t) + 0.639984924890516*I*sin(1.6321106082868e-5*t) + 0.639984924890516*cos(1.6321106082868e-5*t) - 2.61134621831359e-5*I*cos(1.6321106082868e-5*t))*exp(-0.799990578167577*t)*gamma(3.26422121657361e-5*I) + 2.37598183277634*(1.00001631581492 - 9.42171068201901e-6*I)*(1.00001631581492 + 9.42171068201901e-6*I)*(26533.0564804495 + 15320.423810109*I)*(1226572.21459149 - 708233.752680998*I)*exp(-0.800018843665528*t) - 2.78136376358449*(0.951354568043977 - 6.57991994725513e-6*I)*(0.951354568043977 + 6.57991994725513e-6*I)*(9.51444185093262 - 0.00161881386907481*I)*(526.801953411986 + 0.0896315644995438*I)*exp(-0.699999999999307*t) + 2.40836309520218*(0.897472126861046 - 2.47842031305098e-6*I)*(0.897472126861046 + 2.47842031305098e-6*I)*(2.99166770353845 - 0.00017102452543871*I)*(41.0843311392348 + 0.00234866600583474*I)*exp(-0.500000000000011*t))*Heaviside(t)"
            ]
          },
          "metadata": {},
          "output_type": "display_data"
        }
      ],
      "source": [
        "display(sp.inverse_laplace_transform(H.subs(Zn).subs(Pn).subs(Gn), p, t))"
      ]
    },
    {
      "cell_type": "markdown",
      "metadata": {},
      "source": [
        "## Utilisation du package **control** pour validation"
      ]
    },
    {
      "cell_type": "code",
      "execution_count": 8,
      "metadata": {},
      "outputs": [
        {
          "data": {
            "text/latex": [
              "$$\\frac{5 s^2 - 1.5 s + 0.1}{s^5 + 3.6 s^4 + 5.15 s^3 + 3.656 s^2 + 1.286 s + 0.1792}$$"
            ],
            "text/plain": [
              "TransferFunction(array([ 5. , -1.5,  0.1]), array([1.    , 3.6   , 5.15  , 3.656 , 1.2864, 0.1792]))"
            ]
          },
          "execution_count": 8,
          "metadata": {},
          "output_type": "execute_result"
        }
      ],
      "source": [
        "p = ct.tf('s')\n",
        "H = Gn[0][1]\n",
        "for k in range(len(Pn)):\n",
        "    H = H/(p - Pn[k][1])**OPn[k]\n",
        "for k in range(len(Zn)):\n",
        "    H = H*(p - Zn[k][1])**OZn[k]\n",
        "H"
      ]
    },
    {
      "cell_type": "markdown",
      "metadata": {},
      "source": [
        "## Bilan avec comparaison"
      ]
    },
    {
      "cell_type": "code",
      "execution_count": 9,
      "metadata": {},
      "outputs": [
        {
          "data": {
            "image/png": "[encoded data removed]",
            "text/plain": [
              "<Figure size 640x480 with 1 Axes>"
            ]
          },
          "metadata": {},
          "output_type": "display_data"
        }
      ],
      "source": [
        "tps = np.arange(0, 30, 0.01)\n",
        "rep = ct.impulse_response(H, tps)\n",
        "h_control = rep.y[0][0]\n",
        "h_sympy = np.real(sp.lambdify(t, h.subs(An).subs(Pn), 'numpy')(tps))\n",
        "plt.plot(tps, h_control, 'b', lw=2, label='h_control')\n",
        "plt.plot(tps, h_sympy, 'r', lw=1, label='h_sympy')\n",
        "plt.grid('on')\n",
        "plt.xlabel('temps (s)')\n",
        "plt.legend()\n",
        "plt.show()"
      ]
    },
    {
      "cell_type": "markdown",
      "metadata": {
        "id": "IHmA2i_NYFrn"
      },
      "source": [
        "## Méthodes de calcul"
      ]
    },
    {
      "cell_type": "markdown",
      "metadata": {
        "id": "VI4lz32nLJ3i"
      },
      "source": [
        "### Cas d'un pôle $p_0$ simple"
      ]
    },
    {
      "cell_type": "markdown",
      "metadata": {
        "id": "MUFSyke1LVj_"
      },
      "source": [
        "$$F(p)=\\dfrac{P(p)}{Q(p)}=\\dfrac{P(p)}{B(p)(p-p_0)}=K(p)+\\dfrac{a_1}{(p-p_0)}$$\n",
        "\n",
        "$$a_1=\\dfrac{P(p_0)}{B(p_0)}=F(p)(p-p_0)|_{p=p_0}$$"
      ]
    },
    {
      "cell_type": "markdown",
      "metadata": {
        "id": "Dojj8BCVr6XZ"
      },
      "source": [
        "### Cas d'un pôle $p_0$ d'ordre de multiplicité N supérieur à 1"
      ]
    },
    {
      "cell_type": "markdown",
      "metadata": {
        "id": "NCHghUA-Xwtz"
      },
      "source": [
        "Première étape pour récupérer le terme de plus haut degré :\n",
        "\n",
        "$$F(p)=\\dfrac{P(p)}{Q(p)}=\\dfrac{P(p)}{B(p)(p-p_0)^N}=K(p)+\\Sigma_{n=1}^N\\dfrac{a_n}{(p-p_0)^n}$$\n",
        "\n",
        "$$a_N=\\dfrac{P(p_0)}{B(p_0)}=F(p)(p-p_0)^N|_{p=p_0}$$\n",
        "\n",
        "Par récurrence sur N étapes incluant la première étape :\n",
        "\n",
        "* Initialisation\n",
        "\n",
        "$$F_n(p)=F(p)$$\n",
        "\n",
        "* Pour $n$ variant de $N$ à $1$ :\n",
        "\n",
        "$$a_n=F_n(p)(p-p_0)^n|_{p=p_0}$$\n",
        "\n",
        "$$F_n(p)=F_n(p)-\\dfrac{a_n}{(p-p_0)^n}$$\n"
      ]
    }
  ],
  "metadata": {
    "anaconda-cloud": {},
    "colab": {
      "provenance": []
    },
    "kernelspec": {
      "display_name": "Python 3",
      "language": "python",
      "name": "python3"
    },
    "language_info": {
      "codemirror_mode": {
        "name": "ipython",
        "version": 3
      },
      "file_extension": ".py",
      "mimetype": "text/x-python",
      "name": "python",
      "nbconvert_exporter": "python",
      "pygments_lexer": "ipython3",
      "version": "3.10.6"
    }
  },
  "nbformat": 4,
  "nbformat_minor": 0
}
